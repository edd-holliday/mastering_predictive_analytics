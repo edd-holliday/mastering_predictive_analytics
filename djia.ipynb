{
 "cells": [
  {
   "cell_type": "code",
   "execution_count": 22,
   "metadata": {},
   "outputs": [],
   "source": [
    "%matplotlib inline\n",
    "\n",
    "import matplotlib.pyplot as plt\n",
    "import numpy as np\n",
    "import pandas as pd\n",
    "import datetime\n",
    "import scipy.stats\n",
    "#from statsmodels.graphics.tsaplots import plot_acf, plot_pacf\n",
    "\n",
    "#from sklearn import preprocessing\n",
    "#import sklearn.metrics.pairwise as pairwise\n",
    "from sklearn.manifold import MDS\n",
    "\n",
    "from fastdtw import fastdtw\n",
    "\n",
    "#import re\n",
    "\n",
    "\n",
    "plt.style.use('ggplot')"
   ]
  },
  {
   "cell_type": "code",
   "execution_count": 10,
   "metadata": {},
   "outputs": [
    {
     "data": {
      "text/html": [
       "<div>\n",
       "<style scoped>\n",
       "    .dataframe tbody tr th:only-of-type {\n",
       "        vertical-align: middle;\n",
       "    }\n",
       "\n",
       "    .dataframe tbody tr th {\n",
       "        vertical-align: top;\n",
       "    }\n",
       "\n",
       "    .dataframe thead th {\n",
       "        text-align: right;\n",
       "    }\n",
       "</style>\n",
       "<table border=\"1\" class=\"dataframe\">\n",
       "  <thead>\n",
       "    <tr style=\"text-align: right;\">\n",
       "      <th></th>\n",
       "      <th>quarter</th>\n",
       "      <th>stock</th>\n",
       "      <th>date</th>\n",
       "      <th>open</th>\n",
       "      <th>high</th>\n",
       "      <th>low</th>\n",
       "      <th>close</th>\n",
       "      <th>volume</th>\n",
       "      <th>percent_change_price</th>\n",
       "      <th>percent_change_volume_over_last_wk</th>\n",
       "      <th>previous_weeks_volume</th>\n",
       "      <th>next_weeks_open</th>\n",
       "      <th>next_weeks_close</th>\n",
       "      <th>percent_change_next_weeks_price</th>\n",
       "      <th>days_to_next_dividend</th>\n",
       "      <th>percent_return_next_dividend</th>\n",
       "    </tr>\n",
       "  </thead>\n",
       "  <tbody>\n",
       "    <tr>\n",
       "      <th>0</th>\n",
       "      <td>1</td>\n",
       "      <td>AA</td>\n",
       "      <td>2011-01-07</td>\n",
       "      <td>$15.82</td>\n",
       "      <td>$16.72</td>\n",
       "      <td>$15.78</td>\n",
       "      <td>16.42</td>\n",
       "      <td>239655616</td>\n",
       "      <td>3.79267</td>\n",
       "      <td>NaN</td>\n",
       "      <td>NaN</td>\n",
       "      <td>$16.71</td>\n",
       "      <td>$15.97</td>\n",
       "      <td>-4.428490</td>\n",
       "      <td>26</td>\n",
       "      <td>0.182704</td>\n",
       "    </tr>\n",
       "    <tr>\n",
       "      <th>1</th>\n",
       "      <td>1</td>\n",
       "      <td>AA</td>\n",
       "      <td>2011-01-14</td>\n",
       "      <td>$16.71</td>\n",
       "      <td>$16.71</td>\n",
       "      <td>$15.64</td>\n",
       "      <td>15.97</td>\n",
       "      <td>242963398</td>\n",
       "      <td>-4.42849</td>\n",
       "      <td>1.380223</td>\n",
       "      <td>239655616.0</td>\n",
       "      <td>$16.19</td>\n",
       "      <td>$15.79</td>\n",
       "      <td>-2.470660</td>\n",
       "      <td>19</td>\n",
       "      <td>0.187852</td>\n",
       "    </tr>\n",
       "    <tr>\n",
       "      <th>2</th>\n",
       "      <td>1</td>\n",
       "      <td>AA</td>\n",
       "      <td>2011-01-21</td>\n",
       "      <td>$16.19</td>\n",
       "      <td>$16.38</td>\n",
       "      <td>$15.60</td>\n",
       "      <td>15.79</td>\n",
       "      <td>138428495</td>\n",
       "      <td>-2.47066</td>\n",
       "      <td>-43.024959</td>\n",
       "      <td>242963398.0</td>\n",
       "      <td>$15.87</td>\n",
       "      <td>$16.13</td>\n",
       "      <td>1.638310</td>\n",
       "      <td>12</td>\n",
       "      <td>0.189994</td>\n",
       "    </tr>\n",
       "    <tr>\n",
       "      <th>3</th>\n",
       "      <td>1</td>\n",
       "      <td>AA</td>\n",
       "      <td>2011-01-28</td>\n",
       "      <td>$15.87</td>\n",
       "      <td>$16.63</td>\n",
       "      <td>$15.82</td>\n",
       "      <td>16.13</td>\n",
       "      <td>151379173</td>\n",
       "      <td>1.63831</td>\n",
       "      <td>9.355500</td>\n",
       "      <td>138428495.0</td>\n",
       "      <td>$16.18</td>\n",
       "      <td>$17.14</td>\n",
       "      <td>5.933250</td>\n",
       "      <td>5</td>\n",
       "      <td>0.185989</td>\n",
       "    </tr>\n",
       "    <tr>\n",
       "      <th>4</th>\n",
       "      <td>1</td>\n",
       "      <td>AA</td>\n",
       "      <td>2011-02-04</td>\n",
       "      <td>$16.18</td>\n",
       "      <td>$17.39</td>\n",
       "      <td>$16.18</td>\n",
       "      <td>17.14</td>\n",
       "      <td>154387761</td>\n",
       "      <td>5.93325</td>\n",
       "      <td>1.987452</td>\n",
       "      <td>151379173.0</td>\n",
       "      <td>$17.33</td>\n",
       "      <td>$17.37</td>\n",
       "      <td>0.230814</td>\n",
       "      <td>97</td>\n",
       "      <td>0.175029</td>\n",
       "    </tr>\n",
       "  </tbody>\n",
       "</table>\n",
       "</div>"
      ],
      "text/plain": [
       "   quarter stock       date    open    high     low  close     volume  \\\n",
       "0        1    AA 2011-01-07  $15.82  $16.72  $15.78  16.42  239655616   \n",
       "1        1    AA 2011-01-14  $16.71  $16.71  $15.64  15.97  242963398   \n",
       "2        1    AA 2011-01-21  $16.19  $16.38  $15.60  15.79  138428495   \n",
       "3        1    AA 2011-01-28  $15.87  $16.63  $15.82  16.13  151379173   \n",
       "4        1    AA 2011-02-04  $16.18  $17.39  $16.18  17.14  154387761   \n",
       "\n",
       "   percent_change_price  percent_change_volume_over_last_wk  \\\n",
       "0               3.79267                                 NaN   \n",
       "1              -4.42849                            1.380223   \n",
       "2              -2.47066                          -43.024959   \n",
       "3               1.63831                            9.355500   \n",
       "4               5.93325                            1.987452   \n",
       "\n",
       "   previous_weeks_volume next_weeks_open next_weeks_close  \\\n",
       "0                    NaN          $16.71           $15.97   \n",
       "1            239655616.0          $16.19           $15.79   \n",
       "2            242963398.0          $15.87           $16.13   \n",
       "3            138428495.0          $16.18           $17.14   \n",
       "4            151379173.0          $17.33           $17.37   \n",
       "\n",
       "   percent_change_next_weeks_price  days_to_next_dividend  \\\n",
       "0                        -4.428490                     26   \n",
       "1                        -2.470660                     19   \n",
       "2                         1.638310                     12   \n",
       "3                         5.933250                      5   \n",
       "4                         0.230814                     97   \n",
       "\n",
       "   percent_return_next_dividend  \n",
       "0                      0.182704  \n",
       "1                      0.187852  \n",
       "2                      0.189994  \n",
       "3                      0.185989  \n",
       "4                      0.175029  "
      ]
     },
     "execution_count": 10,
     "metadata": {},
     "output_type": "execute_result"
    }
   ],
   "source": [
    "df = pd.read_csv(\"input/djia/dow_jones_index.data\")\n",
    "df['close'] = df['close'].apply(lambda x: float(x[1:]))\n",
    "df['date'] = df['date'].apply(lambda x: datetime.datetime(int(x.split('/')[2]), int(x.split('/')[0]), int(x.split('/')[1])))\n",
    "df['stock'] = df['stock'].apply(lambda x: str(x))\n",
    "df.head()"
   ]
  },
  {
   "cell_type": "code",
   "execution_count": 13,
   "metadata": {},
   "outputs": [
    {
     "data": {
      "text/html": [
       "<div>\n",
       "<style scoped>\n",
       "    .dataframe tbody tr th:only-of-type {\n",
       "        vertical-align: middle;\n",
       "    }\n",
       "\n",
       "    .dataframe tbody tr th {\n",
       "        vertical-align: top;\n",
       "    }\n",
       "\n",
       "    .dataframe thead th {\n",
       "        text-align: right;\n",
       "    }\n",
       "</style>\n",
       "<table border=\"1\" class=\"dataframe\">\n",
       "  <thead>\n",
       "    <tr style=\"text-align: right;\">\n",
       "      <th>date</th>\n",
       "      <th>stock</th>\n",
       "      <th>2011-01-07 00:00:00</th>\n",
       "      <th>2011-01-14 00:00:00</th>\n",
       "      <th>2011-01-21 00:00:00</th>\n",
       "      <th>2011-01-28 00:00:00</th>\n",
       "      <th>2011-02-04 00:00:00</th>\n",
       "      <th>2011-02-11 00:00:00</th>\n",
       "      <th>2011-02-18 00:00:00</th>\n",
       "      <th>2011-02-25 00:00:00</th>\n",
       "      <th>2011-03-04 00:00:00</th>\n",
       "      <th>...</th>\n",
       "      <th>2011-04-21 00:00:00</th>\n",
       "      <th>2011-04-29 00:00:00</th>\n",
       "      <th>2011-05-06 00:00:00</th>\n",
       "      <th>2011-05-13 00:00:00</th>\n",
       "      <th>2011-05-20 00:00:00</th>\n",
       "      <th>2011-05-27 00:00:00</th>\n",
       "      <th>2011-06-03 00:00:00</th>\n",
       "      <th>2011-06-10 00:00:00</th>\n",
       "      <th>2011-06-17 00:00:00</th>\n",
       "      <th>2011-06-24 00:00:00</th>\n",
       "    </tr>\n",
       "  </thead>\n",
       "  <tbody>\n",
       "    <tr>\n",
       "      <th>25</th>\n",
       "      <td>TRV</td>\n",
       "      <td>53.33</td>\n",
       "      <td>54.63</td>\n",
       "      <td>55.00</td>\n",
       "      <td>55.81</td>\n",
       "      <td>57.41</td>\n",
       "      <td>58.99</td>\n",
       "      <td>60.92</td>\n",
       "      <td>59.60</td>\n",
       "      <td>59.18</td>\n",
       "      <td>...</td>\n",
       "      <td>61.32</td>\n",
       "      <td>63.28</td>\n",
       "      <td>63.43</td>\n",
       "      <td>62.33</td>\n",
       "      <td>62.25</td>\n",
       "      <td>61.52</td>\n",
       "      <td>61.18</td>\n",
       "      <td>59.21</td>\n",
       "      <td>57.92</td>\n",
       "      <td>56.68</td>\n",
       "    </tr>\n",
       "    <tr>\n",
       "      <th>26</th>\n",
       "      <td>UTX</td>\n",
       "      <td>79.08</td>\n",
       "      <td>79.08</td>\n",
       "      <td>80.20</td>\n",
       "      <td>81.43</td>\n",
       "      <td>82.52</td>\n",
       "      <td>85.20</td>\n",
       "      <td>85.01</td>\n",
       "      <td>83.37</td>\n",
       "      <td>82.86</td>\n",
       "      <td>...</td>\n",
       "      <td>87.10</td>\n",
       "      <td>89.58</td>\n",
       "      <td>89.21</td>\n",
       "      <td>88.98</td>\n",
       "      <td>87.50</td>\n",
       "      <td>86.33</td>\n",
       "      <td>83.24</td>\n",
       "      <td>82.70</td>\n",
       "      <td>84.57</td>\n",
       "      <td>84.33</td>\n",
       "    </tr>\n",
       "    <tr>\n",
       "      <th>27</th>\n",
       "      <td>VZ</td>\n",
       "      <td>35.93</td>\n",
       "      <td>35.46</td>\n",
       "      <td>34.95</td>\n",
       "      <td>35.63</td>\n",
       "      <td>36.31</td>\n",
       "      <td>36.39</td>\n",
       "      <td>36.62</td>\n",
       "      <td>35.97</td>\n",
       "      <td>36.08</td>\n",
       "      <td>...</td>\n",
       "      <td>36.91</td>\n",
       "      <td>37.78</td>\n",
       "      <td>37.28</td>\n",
       "      <td>37.26</td>\n",
       "      <td>37.15</td>\n",
       "      <td>36.67</td>\n",
       "      <td>35.63</td>\n",
       "      <td>35.19</td>\n",
       "      <td>35.51</td>\n",
       "      <td>36.00</td>\n",
       "    </tr>\n",
       "    <tr>\n",
       "      <th>28</th>\n",
       "      <td>WMT</td>\n",
       "      <td>54.08</td>\n",
       "      <td>54.81</td>\n",
       "      <td>55.73</td>\n",
       "      <td>56.70</td>\n",
       "      <td>56.03</td>\n",
       "      <td>55.69</td>\n",
       "      <td>55.38</td>\n",
       "      <td>51.75</td>\n",
       "      <td>52.07</td>\n",
       "      <td>...</td>\n",
       "      <td>53.58</td>\n",
       "      <td>54.98</td>\n",
       "      <td>55.02</td>\n",
       "      <td>55.72</td>\n",
       "      <td>55.29</td>\n",
       "      <td>54.70</td>\n",
       "      <td>53.66</td>\n",
       "      <td>52.72</td>\n",
       "      <td>52.82</td>\n",
       "      <td>52.41</td>\n",
       "    </tr>\n",
       "    <tr>\n",
       "      <th>29</th>\n",
       "      <td>XOM</td>\n",
       "      <td>75.59</td>\n",
       "      <td>77.84</td>\n",
       "      <td>78.98</td>\n",
       "      <td>78.99</td>\n",
       "      <td>83.28</td>\n",
       "      <td>82.82</td>\n",
       "      <td>84.50</td>\n",
       "      <td>85.34</td>\n",
       "      <td>85.08</td>\n",
       "      <td>...</td>\n",
       "      <td>86.36</td>\n",
       "      <td>87.98</td>\n",
       "      <td>82.69</td>\n",
       "      <td>80.87</td>\n",
       "      <td>81.57</td>\n",
       "      <td>82.63</td>\n",
       "      <td>81.18</td>\n",
       "      <td>79.78</td>\n",
       "      <td>79.02</td>\n",
       "      <td>76.78</td>\n",
       "    </tr>\n",
       "  </tbody>\n",
       "</table>\n",
       "<p>5 rows × 26 columns</p>\n",
       "</div>"
      ],
      "text/plain": [
       "date stock  2011-01-07 00:00:00  2011-01-14 00:00:00  2011-01-21 00:00:00  \\\n",
       "25     TRV                53.33                54.63                55.00   \n",
       "26     UTX                79.08                79.08                80.20   \n",
       "27      VZ                35.93                35.46                34.95   \n",
       "28     WMT                54.08                54.81                55.73   \n",
       "29     XOM                75.59                77.84                78.98   \n",
       "\n",
       "date  2011-01-28 00:00:00  2011-02-04 00:00:00  2011-02-11 00:00:00  \\\n",
       "25                  55.81                57.41                58.99   \n",
       "26                  81.43                82.52                85.20   \n",
       "27                  35.63                36.31                36.39   \n",
       "28                  56.70                56.03                55.69   \n",
       "29                  78.99                83.28                82.82   \n",
       "\n",
       "date  2011-02-18 00:00:00  2011-02-25 00:00:00  2011-03-04 00:00:00  ...  \\\n",
       "25                  60.92                59.60                59.18  ...   \n",
       "26                  85.01                83.37                82.86  ...   \n",
       "27                  36.62                35.97                36.08  ...   \n",
       "28                  55.38                51.75                52.07  ...   \n",
       "29                  84.50                85.34                85.08  ...   \n",
       "\n",
       "date  2011-04-21 00:00:00  2011-04-29 00:00:00  2011-05-06 00:00:00  \\\n",
       "25                  61.32                63.28                63.43   \n",
       "26                  87.10                89.58                89.21   \n",
       "27                  36.91                37.78                37.28   \n",
       "28                  53.58                54.98                55.02   \n",
       "29                  86.36                87.98                82.69   \n",
       "\n",
       "date  2011-05-13 00:00:00  2011-05-20 00:00:00  2011-05-27 00:00:00  \\\n",
       "25                  62.33                62.25                61.52   \n",
       "26                  88.98                87.50                86.33   \n",
       "27                  37.26                37.15                36.67   \n",
       "28                  55.72                55.29                54.70   \n",
       "29                  80.87                81.57                82.63   \n",
       "\n",
       "date  2011-06-03 00:00:00  2011-06-10 00:00:00  2011-06-17 00:00:00  \\\n",
       "25                  61.18                59.21                57.92   \n",
       "26                  83.24                82.70                84.57   \n",
       "27                  35.63                35.19                35.51   \n",
       "28                  53.66                52.72                52.82   \n",
       "29                  81.18                79.78                79.02   \n",
       "\n",
       "date  2011-06-24 00:00:00  \n",
       "25                  56.68  \n",
       "26                  84.33  \n",
       "27                  36.00  \n",
       "28                  52.41  \n",
       "29                  76.78  \n",
       "\n",
       "[5 rows x 26 columns]"
      ]
     },
     "execution_count": 13,
     "metadata": {},
     "output_type": "execute_result"
    }
   ],
   "source": [
    "df_pivot = df.pivot(index='stock', columns='date', values='close').reset_index()\n",
    "df_pivot.tail()"
   ]
  },
  {
   "cell_type": "code",
   "execution_count": 17,
   "metadata": {},
   "outputs": [
    {
     "name": "stderr",
     "output_type": "stream",
     "text": [
      "c:\\Users\\eddho\\Projects\\data\\mastering_predictive_analytics\\env\\Lib\\site-packages\\sklearn\\manifold\\_mds.py:601: UserWarning: The MDS API has changed. ``fit`` now constructs an dissimilarity matrix from data. To use a custom dissimilarity matrix, set ``dissimilarity='precomputed'``.\n",
      "  warnings.warn(\n",
      "c:\\Users\\eddho\\Projects\\data\\mastering_predictive_analytics\\env\\Lib\\site-packages\\sklearn\\manifold\\_mds.py:298: FutureWarning: The default value of `normalized_stress` will change to `'auto'` in version 1.4. To suppress this warning, manually set the value of `normalized_stress`.\n",
      "  warnings.warn(\n"
     ]
    },
    {
     "data": {
      "text/plain": [
       "<Axes: xlabel='1', ylabel='0'>"
      ]
     },
     "execution_count": 17,
     "metadata": {},
     "output_type": "execute_result"
    },
    {
     "data": {
      "image/png": "[encoded data removed]",
      "text/plain": [
       "<Figure size 640x480 with 1 Axes>"
      ]
     },
     "metadata": {},
     "output_type": "display_data"
    }
   ],
   "source": [
    "corr = np.corrcoef(np.float64(np.array(df_pivot)[:,2:]))\n",
    "mds_coords = MDS().fit_transform(corr)\n",
    "pd.DataFrame(mds_coords).plot(kind='scatter', x=1, y=0)"
   ]
  },
  {
   "cell_type": "code",
   "execution_count": 18,
   "metadata": {},
   "outputs": [
    {
     "data": {
      "text/plain": [
       "<Axes: xlabel='0', ylabel='1'>"
      ]
     },
     "execution_count": 18,
     "metadata": {},
     "output_type": "execute_result"
    },
    {
     "data": {
      "image/png": "[encoded data removed]",
      "text/plain": [
       "<Figure size 640x480 with 1 Axes>"
      ]
     },
     "metadata": {},
     "output_type": "display_data"
    }
   ],
   "source": [
    "df_pivot.iloc[0:2].transpose().iloc[2:].plot(kind='scatter', x=0, y=1)"
   ]
  },
  {
   "cell_type": "code",
   "execution_count": 21,
   "metadata": {},
   "outputs": [
    {
     "name": "stderr",
     "output_type": "stream",
     "text": [
      "c:\\Users\\eddho\\Projects\\data\\mastering_predictive_analytics\\env\\Lib\\site-packages\\sklearn\\manifold\\_mds.py:601: UserWarning: The MDS API has changed. ``fit`` now constructs an dissimilarity matrix from data. To use a custom dissimilarity matrix, set ``dissimilarity='precomputed'``.\n",
      "  warnings.warn(\n",
      "c:\\Users\\eddho\\Projects\\data\\mastering_predictive_analytics\\env\\Lib\\site-packages\\sklearn\\manifold\\_mds.py:298: FutureWarning: The default value of `normalized_stress` will change to `'auto'` in version 1.4. To suppress this warning, manually set the value of `normalized_stress`.\n",
      "  warnings.warn(\n"
     ]
    },
    {
     "data": {
      "text/plain": [
       "<Axes: xlabel='1', ylabel='0'>"
      ]
     },
     "execution_count": 21,
     "metadata": {},
     "output_type": "execute_result"
    },
    {
     "data": {
      "image/png": "[encoded data removed]",
      "text/plain": [
       "<Figure size 640x480 with 1 Axes>"
      ]
     },
     "metadata": {},
     "output_type": "display_data"
    }
   ],
   "source": [
    "corr2 = scipy.stats.spearmanr(np.float64(np.array(df_pivot)[:,1:]))\n",
    "mds_coords = MDS().fit_transform(corr2.correlation)\n",
    "pd.DataFrame(mds_coords).plot(kind='scatter', x=1, y=0)"
   ]
  },
  {
   "cell_type": "code",
   "execution_count": 23,
   "metadata": {},
   "outputs": [],
   "source": [
    "dtw_matrix = np.zeros(shape=(df_pivot.shape[0], df_pivot.shape[0]))\n",
    "\n",
    "for i in np.arange(0, df_pivot.shape[0]):\n",
    "    for j in np.arange(i+1, df_pivot.shape[0]):\n",
    "        dtw_matrix[i,j] = fastdtw(df_pivot.iloc[i,2:], df_pivot.iloc[j,2:])[0]"
   ]
  },
  {
   "cell_type": "code",
   "execution_count": 24,
   "metadata": {},
   "outputs": [],
   "source": [
    "dtw_matrix += dtw_matrix.transpose()"
   ]
  },
  {
   "cell_type": "code",
   "execution_count": 26,
   "metadata": {},
   "outputs": [
    {
     "name": "stderr",
     "output_type": "stream",
     "text": [
      "c:\\Users\\eddho\\Projects\\data\\mastering_predictive_analytics\\env\\Lib\\site-packages\\sklearn\\manifold\\_mds.py:601: UserWarning: The MDS API has changed. ``fit`` now constructs an dissimilarity matrix from data. To use a custom dissimilarity matrix, set ``dissimilarity='precomputed'``.\n",
      "  warnings.warn(\n",
      "c:\\Users\\eddho\\Projects\\data\\mastering_predictive_analytics\\env\\Lib\\site-packages\\sklearn\\manifold\\_mds.py:298: FutureWarning: The default value of `normalized_stress` will change to `'auto'` in version 1.4. To suppress this warning, manually set the value of `normalized_stress`.\n",
      "  warnings.warn(\n"
     ]
    },
    {
     "data": {
      "text/plain": [
       "<Axes: xlabel='1', ylabel='0'>"
      ]
     },
     "execution_count": 26,
     "metadata": {},
     "output_type": "execute_result"
    },
    {
     "data": {
      "image/png": "[encoded data removed]",
      "text/plain": [
       "<Figure size 640x480 with 1 Axes>"
      ]
     },
     "metadata": {},
     "output_type": "display_data"
    }
   ],
   "source": [
    "mds_coords = MDS().fit_transform(dtw_matrix)\n",
    "pd.DataFrame(mds_coords).plot(kind='scatter', x=1, y=0)"
   ]
  },
  {
   "cell_type": "code",
   "execution_count": null,
   "metadata": {},
   "outputs": [],
   "source": []
  }
 ],
 "metadata": {
  "kernelspec": {
   "display_name": "env",
   "language": "python",
   "name": "python3"
  },
  "language_info": {
   "codemirror_mode": {
    "name": "ipython",
    "version": 3
   },
   "file_extension": ".py",
   "mimetype": "text/x-python",
   "name": "python",
   "nbconvert_exporter": "python",
   "pygments_lexer": "ipython3",
   "version": "3.11.3"
  },
  "orig_nbformat": 4
 },
 "nbformat": 4,
 "nbformat_minor": 2
}
